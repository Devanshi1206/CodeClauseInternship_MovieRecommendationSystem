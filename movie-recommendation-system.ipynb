{
 "cells": [
  {
   "cell_type": "markdown",
   "metadata": {},
   "source": [
    "# Knowledge based Movie Recomendation System"
   ]
  },
  {
   "cell_type": "code",
   "execution_count": 1,
   "metadata": {},
   "outputs": [
    {
     "name": "stdout",
     "output_type": "stream",
     "text": [
      "Python 3.9.12\n"
     ]
    }
   ],
   "source": [
    "!python --version"
   ]
  },
  {
   "cell_type": "code",
   "execution_count": 2,
   "metadata": {
    "execution": {
     "iopub.execute_input": "2023-09-15T19:46:24.375595Z",
     "iopub.status.busy": "2023-09-15T19:46:24.375125Z",
     "iopub.status.idle": "2023-09-15T19:46:25.417570Z",
     "shell.execute_reply": "2023-09-15T19:46:25.416216Z",
     "shell.execute_reply.started": "2023-09-15T19:46:24.375560Z"
    }
   },
   "outputs": [],
   "source": [
    "import numpy as np \n",
    "import pandas as pd\n",
    "\n",
    "import warnings\n",
    "warnings.filterwarnings('ignore') "
   ]
  },
  {
   "cell_type": "code",
   "execution_count": 3,
   "metadata": {
    "execution": {
     "iopub.execute_input": "2023-09-15T19:46:25.420535Z",
     "iopub.status.busy": "2023-09-15T19:46:25.419761Z",
     "iopub.status.idle": "2023-09-15T19:46:37.293225Z",
     "shell.execute_reply": "2023-09-15T19:46:37.291980Z",
     "shell.execute_reply.started": "2023-09-15T19:46:25.420497Z"
    }
   },
   "outputs": [
    {
     "data": {
      "text/html": [
       "<div>\n",
       "<style scoped>\n",
       "    .dataframe tbody tr th:only-of-type {\n",
       "        vertical-align: middle;\n",
       "    }\n",
       "\n",
       "    .dataframe tbody tr th {\n",
       "        vertical-align: top;\n",
       "    }\n",
       "\n",
       "    .dataframe thead th {\n",
       "        text-align: right;\n",
       "    }\n",
       "</style>\n",
       "<table border=\"1\" class=\"dataframe\">\n",
       "  <thead>\n",
       "    <tr style=\"text-align: right;\">\n",
       "      <th></th>\n",
       "      <th>id</th>\n",
       "      <th>title</th>\n",
       "      <th>genres</th>\n",
       "      <th>original_language</th>\n",
       "      <th>overview</th>\n",
       "      <th>popularity</th>\n",
       "      <th>production_companies</th>\n",
       "      <th>release_date</th>\n",
       "      <th>budget</th>\n",
       "      <th>revenue</th>\n",
       "      <th>runtime</th>\n",
       "      <th>status</th>\n",
       "      <th>tagline</th>\n",
       "      <th>vote_average</th>\n",
       "      <th>vote_count</th>\n",
       "      <th>credits</th>\n",
       "      <th>keywords</th>\n",
       "      <th>poster_path</th>\n",
       "      <th>backdrop_path</th>\n",
       "      <th>recommendations</th>\n",
       "    </tr>\n",
       "  </thead>\n",
       "  <tbody>\n",
       "    <tr>\n",
       "      <th>0</th>\n",
       "      <td>615656</td>\n",
       "      <td>Meg 2: The Trench</td>\n",
       "      <td>Action-Science Fiction-Horror</td>\n",
       "      <td>en</td>\n",
       "      <td>An exploratory dive into the deepest depths of...</td>\n",
       "      <td>8763.998</td>\n",
       "      <td>Apelles Entertainment-Warner Bros. Pictures-di...</td>\n",
       "      <td>2023-08-02</td>\n",
       "      <td>129000000.0</td>\n",
       "      <td>352056482.0</td>\n",
       "      <td>116.0</td>\n",
       "      <td>Released</td>\n",
       "      <td>Back for seconds.</td>\n",
       "      <td>7.079</td>\n",
       "      <td>1365.0</td>\n",
       "      <td>Jason Statham-Wu Jing-Shuya Sophia Cai-Sergio ...</td>\n",
       "      <td>based on novel or book-sequel-kaiju</td>\n",
       "      <td>/4m1Au3YkjqsxF8iwQy0fPYSxE0h.jpg</td>\n",
       "      <td>/qlxy8yo5bcgUw2KAmmojUKp4rHd.jpg</td>\n",
       "      <td>1006462-298618-569094-1061181-346698-1076487-6...</td>\n",
       "    </tr>\n",
       "    <tr>\n",
       "      <th>1</th>\n",
       "      <td>758323</td>\n",
       "      <td>The Pope's Exorcist</td>\n",
       "      <td>Horror-Mystery-Thriller</td>\n",
       "      <td>en</td>\n",
       "      <td>Father Gabriele Amorth Chief Exorcist of the V...</td>\n",
       "      <td>5953.227</td>\n",
       "      <td>Screen Gems-2.0 Entertainment-Jesus &amp; Mary-Wor...</td>\n",
       "      <td>2023-04-05</td>\n",
       "      <td>18000000.0</td>\n",
       "      <td>65675816.0</td>\n",
       "      <td>103.0</td>\n",
       "      <td>Released</td>\n",
       "      <td>Inspired by the actual files of Father Gabriel...</td>\n",
       "      <td>7.433</td>\n",
       "      <td>545.0</td>\n",
       "      <td>Russell Crowe-Daniel Zovatto-Alex Essoe-Franco...</td>\n",
       "      <td>spain-rome italy-vatican-pope-pig-possession-c...</td>\n",
       "      <td>/9JBEPLTPSm0d1mbEcLxULjJq9Eh.jpg</td>\n",
       "      <td>/hiHGRbyTcbZoLsYYkO4QiCLYe34.jpg</td>\n",
       "      <td>713704-296271-502356-1076605-1084225-1008005-9...</td>\n",
       "    </tr>\n",
       "    <tr>\n",
       "      <th>2</th>\n",
       "      <td>667538</td>\n",
       "      <td>Transformers: Rise of the Beasts</td>\n",
       "      <td>Action-Adventure-Science Fiction</td>\n",
       "      <td>en</td>\n",
       "      <td>When a new threat capable of destroying the en...</td>\n",
       "      <td>5409.104</td>\n",
       "      <td>Skydance-Paramount-di Bonaventura Pictures-Bay...</td>\n",
       "      <td>2023-06-06</td>\n",
       "      <td>200000000.0</td>\n",
       "      <td>407045464.0</td>\n",
       "      <td>127.0</td>\n",
       "      <td>Released</td>\n",
       "      <td>Unite or fall.</td>\n",
       "      <td>7.340</td>\n",
       "      <td>1007.0</td>\n",
       "      <td>Anthony Ramos-Dominique Fishback-Luna Lauren V...</td>\n",
       "      <td>peru-alien-end of the world-based on cartoon-b...</td>\n",
       "      <td>/gPbM0MK8CP8A174rmUwGsADNYKD.jpg</td>\n",
       "      <td>/woJbg7ZqidhpvqFGGMRhWQNoxwa.jpg</td>\n",
       "      <td>496450-569094-298618-385687-877100-598331-4628...</td>\n",
       "    </tr>\n",
       "    <tr>\n",
       "      <th>3</th>\n",
       "      <td>640146</td>\n",
       "      <td>Ant-Man and the Wasp: Quantumania</td>\n",
       "      <td>Action-Adventure-Science Fiction</td>\n",
       "      <td>en</td>\n",
       "      <td>Super-Hero partners Scott Lang and Hope van Dy...</td>\n",
       "      <td>4425.387</td>\n",
       "      <td>Marvel Studios-Kevin Feige Productions</td>\n",
       "      <td>2023-02-15</td>\n",
       "      <td>200000000.0</td>\n",
       "      <td>475766228.0</td>\n",
       "      <td>125.0</td>\n",
       "      <td>Released</td>\n",
       "      <td>Witness the beginning of a new dynasty.</td>\n",
       "      <td>6.507</td>\n",
       "      <td>2811.0</td>\n",
       "      <td>Paul Rudd-Evangeline Lilly-Jonathan Majors-Kat...</td>\n",
       "      <td>hero-ant-sequel-superhero-based on comic-famil...</td>\n",
       "      <td>/qnqGbB22YJ7dSs4o6M7exTpNxPz.jpg</td>\n",
       "      <td>/m8JTwHFwX7I7JY5fPe4SjqejWag.jpg</td>\n",
       "      <td>823999-676841-868759-734048-267805-965839-1033...</td>\n",
       "    </tr>\n",
       "    <tr>\n",
       "      <th>4</th>\n",
       "      <td>677179</td>\n",
       "      <td>Creed III</td>\n",
       "      <td>Drama-Action</td>\n",
       "      <td>en</td>\n",
       "      <td>After dominating the boxing world Adonis Creed...</td>\n",
       "      <td>3994.342</td>\n",
       "      <td>Metro-Goldwyn-Mayer-Proximity Media-Balboa Pro...</td>\n",
       "      <td>2023-03-01</td>\n",
       "      <td>75000000.0</td>\n",
       "      <td>269000000.0</td>\n",
       "      <td>116.0</td>\n",
       "      <td>Released</td>\n",
       "      <td>You can't run from your past.</td>\n",
       "      <td>7.262</td>\n",
       "      <td>1129.0</td>\n",
       "      <td>Michael B. Jordan-Tessa Thompson-Jonathan Majo...</td>\n",
       "      <td>philadelphia pennsylvania-husband wife relatio...</td>\n",
       "      <td>/cvsXj3I9Q2iyyIo95AecSd1tad7.jpg</td>\n",
       "      <td>/5i6SjyDbDWqyun8klUuCxrlFbyw.jpg</td>\n",
       "      <td>965839-267805-943822-842942-1035806-823999-107...</td>\n",
       "    </tr>\n",
       "    <tr>\n",
       "      <th>...</th>\n",
       "      <td>...</td>\n",
       "      <td>...</td>\n",
       "      <td>...</td>\n",
       "      <td>...</td>\n",
       "      <td>...</td>\n",
       "      <td>...</td>\n",
       "      <td>...</td>\n",
       "      <td>...</td>\n",
       "      <td>...</td>\n",
       "      <td>...</td>\n",
       "      <td>...</td>\n",
       "      <td>...</td>\n",
       "      <td>...</td>\n",
       "      <td>...</td>\n",
       "      <td>...</td>\n",
       "      <td>...</td>\n",
       "      <td>...</td>\n",
       "      <td>...</td>\n",
       "      <td>...</td>\n",
       "      <td>...</td>\n",
       "    </tr>\n",
       "    <tr>\n",
       "      <th>722709</th>\n",
       "      <td>888716</td>\n",
       "      <td>Assassin Legend</td>\n",
       "      <td>Action</td>\n",
       "      <td>zh</td>\n",
       "      <td>NaN</td>\n",
       "      <td>0.600</td>\n",
       "      <td>NaN</td>\n",
       "      <td>2018-04-13</td>\n",
       "      <td>0.0</td>\n",
       "      <td>0.0</td>\n",
       "      <td>75.0</td>\n",
       "      <td>Released</td>\n",
       "      <td>NaN</td>\n",
       "      <td>0.000</td>\n",
       "      <td>0.0</td>\n",
       "      <td>Tse Miu-William Liao-Yuri Liu-Zhang Chunzhong-...</td>\n",
       "      <td>NaN</td>\n",
       "      <td>/i3uYuF47mlMPWEK4IYIA4dVYm5t.jpg</td>\n",
       "      <td>/5YjksQqNm5qvuYv7mJzel2C9qla.jpg</td>\n",
       "      <td>NaN</td>\n",
       "    </tr>\n",
       "    <tr>\n",
       "      <th>722710</th>\n",
       "      <td>872952</td>\n",
       "      <td>The Anatomy of a Virus: The Making of Antiviral</td>\n",
       "      <td>NaN</td>\n",
       "      <td>en</td>\n",
       "      <td>A behind-the-scenes documentary filmed during ...</td>\n",
       "      <td>0.600</td>\n",
       "      <td>NaN</td>\n",
       "      <td>NaN</td>\n",
       "      <td>0.0</td>\n",
       "      <td>0.0</td>\n",
       "      <td>30.0</td>\n",
       "      <td>Released</td>\n",
       "      <td>NaN</td>\n",
       "      <td>0.000</td>\n",
       "      <td>0.0</td>\n",
       "      <td>Brandon Cronenberg-Caleb Landry Jones-Sarah Ga...</td>\n",
       "      <td>NaN</td>\n",
       "      <td>/7wexHEkawISnNMd8MLhQ6Nx28Ra.jpg</td>\n",
       "      <td>NaN</td>\n",
       "      <td>NaN</td>\n",
       "    </tr>\n",
       "    <tr>\n",
       "      <th>722711</th>\n",
       "      <td>294742</td>\n",
       "      <td>Gospođa- Slobodan</td>\n",
       "      <td>NaN</td>\n",
       "      <td>en</td>\n",
       "      <td>Short video spot.</td>\n",
       "      <td>0.600</td>\n",
       "      <td>NaN</td>\n",
       "      <td>NaN</td>\n",
       "      <td>0.0</td>\n",
       "      <td>0.0</td>\n",
       "      <td>5.0</td>\n",
       "      <td>Released</td>\n",
       "      <td>NaN</td>\n",
       "      <td>0.000</td>\n",
       "      <td>0.0</td>\n",
       "      <td>NaN</td>\n",
       "      <td>NaN</td>\n",
       "      <td>NaN</td>\n",
       "      <td>NaN</td>\n",
       "      <td>NaN</td>\n",
       "    </tr>\n",
       "    <tr>\n",
       "      <th>722712</th>\n",
       "      <td>506737</td>\n",
       "      <td>Revolt of the Empire of the Apes</td>\n",
       "      <td>Action-Adventure</td>\n",
       "      <td>en</td>\n",
       "      <td>Earth has become the Apes playground and human...</td>\n",
       "      <td>0.600</td>\n",
       "      <td>NaN</td>\n",
       "      <td>2017-07-19</td>\n",
       "      <td>0.0</td>\n",
       "      <td>0.0</td>\n",
       "      <td>75.0</td>\n",
       "      <td>Released</td>\n",
       "      <td>NaN</td>\n",
       "      <td>2.000</td>\n",
       "      <td>1.0</td>\n",
       "      <td>James Carolus-Marie DeLorenzo-Steve Diasparra-...</td>\n",
       "      <td>NaN</td>\n",
       "      <td>/pP1svh3fZVUvu41ptuvXkBr2mBG.jpg</td>\n",
       "      <td>NaN</td>\n",
       "      <td>NaN</td>\n",
       "    </tr>\n",
       "    <tr>\n",
       "      <th>722713</th>\n",
       "      <td>968161</td>\n",
       "      <td>Gising Sining</td>\n",
       "      <td>NaN</td>\n",
       "      <td>tl</td>\n",
       "      <td>In a country where fascism foolishness of peop...</td>\n",
       "      <td>0.600</td>\n",
       "      <td>Studio RD</td>\n",
       "      <td>NaN</td>\n",
       "      <td>0.0</td>\n",
       "      <td>0.0</td>\n",
       "      <td>19.0</td>\n",
       "      <td>Released</td>\n",
       "      <td>NaN</td>\n",
       "      <td>0.000</td>\n",
       "      <td>0.0</td>\n",
       "      <td>Ruka Azuma-Mel Perez</td>\n",
       "      <td>NaN</td>\n",
       "      <td>/jv34KgS7D997H5kbVYxKLJRScg.jpg</td>\n",
       "      <td>NaN</td>\n",
       "      <td>NaN</td>\n",
       "    </tr>\n",
       "  </tbody>\n",
       "</table>\n",
       "<p>722714 rows × 20 columns</p>\n",
       "</div>"
      ],
      "text/plain": [
       "            id                                            title  \\\n",
       "0       615656                                Meg 2: The Trench   \n",
       "1       758323                              The Pope's Exorcist   \n",
       "2       667538                 Transformers: Rise of the Beasts   \n",
       "3       640146                Ant-Man and the Wasp: Quantumania   \n",
       "4       677179                                        Creed III   \n",
       "...        ...                                              ...   \n",
       "722709  888716                                  Assassin Legend   \n",
       "722710  872952  The Anatomy of a Virus: The Making of Antiviral   \n",
       "722711  294742                                Gospođa- Slobodan   \n",
       "722712  506737                 Revolt of the Empire of the Apes   \n",
       "722713  968161                                    Gising Sining   \n",
       "\n",
       "                                  genres original_language  \\\n",
       "0          Action-Science Fiction-Horror                en   \n",
       "1                Horror-Mystery-Thriller                en   \n",
       "2       Action-Adventure-Science Fiction                en   \n",
       "3       Action-Adventure-Science Fiction                en   \n",
       "4                           Drama-Action                en   \n",
       "...                                  ...               ...   \n",
       "722709                            Action                zh   \n",
       "722710                               NaN                en   \n",
       "722711                               NaN                en   \n",
       "722712                  Action-Adventure                en   \n",
       "722713                               NaN                tl   \n",
       "\n",
       "                                                 overview  popularity  \\\n",
       "0       An exploratory dive into the deepest depths of...    8763.998   \n",
       "1       Father Gabriele Amorth Chief Exorcist of the V...    5953.227   \n",
       "2       When a new threat capable of destroying the en...    5409.104   \n",
       "3       Super-Hero partners Scott Lang and Hope van Dy...    4425.387   \n",
       "4       After dominating the boxing world Adonis Creed...    3994.342   \n",
       "...                                                   ...         ...   \n",
       "722709                                                NaN       0.600   \n",
       "722710  A behind-the-scenes documentary filmed during ...       0.600   \n",
       "722711                                  Short video spot.       0.600   \n",
       "722712  Earth has become the Apes playground and human...       0.600   \n",
       "722713  In a country where fascism foolishness of peop...       0.600   \n",
       "\n",
       "                                     production_companies release_date  \\\n",
       "0       Apelles Entertainment-Warner Bros. Pictures-di...   2023-08-02   \n",
       "1       Screen Gems-2.0 Entertainment-Jesus & Mary-Wor...   2023-04-05   \n",
       "2       Skydance-Paramount-di Bonaventura Pictures-Bay...   2023-06-06   \n",
       "3                  Marvel Studios-Kevin Feige Productions   2023-02-15   \n",
       "4       Metro-Goldwyn-Mayer-Proximity Media-Balboa Pro...   2023-03-01   \n",
       "...                                                   ...          ...   \n",
       "722709                                                NaN   2018-04-13   \n",
       "722710                                                NaN          NaN   \n",
       "722711                                                NaN          NaN   \n",
       "722712                                                NaN   2017-07-19   \n",
       "722713                                          Studio RD          NaN   \n",
       "\n",
       "             budget      revenue  runtime    status  \\\n",
       "0       129000000.0  352056482.0    116.0  Released   \n",
       "1        18000000.0   65675816.0    103.0  Released   \n",
       "2       200000000.0  407045464.0    127.0  Released   \n",
       "3       200000000.0  475766228.0    125.0  Released   \n",
       "4        75000000.0  269000000.0    116.0  Released   \n",
       "...             ...          ...      ...       ...   \n",
       "722709          0.0          0.0     75.0  Released   \n",
       "722710          0.0          0.0     30.0  Released   \n",
       "722711          0.0          0.0      5.0  Released   \n",
       "722712          0.0          0.0     75.0  Released   \n",
       "722713          0.0          0.0     19.0  Released   \n",
       "\n",
       "                                                  tagline  vote_average  \\\n",
       "0                                       Back for seconds.         7.079   \n",
       "1       Inspired by the actual files of Father Gabriel...         7.433   \n",
       "2                                          Unite or fall.         7.340   \n",
       "3                 Witness the beginning of a new dynasty.         6.507   \n",
       "4                           You can't run from your past.         7.262   \n",
       "...                                                   ...           ...   \n",
       "722709                                                NaN         0.000   \n",
       "722710                                                NaN         0.000   \n",
       "722711                                                NaN         0.000   \n",
       "722712                                                NaN         2.000   \n",
       "722713                                                NaN         0.000   \n",
       "\n",
       "        vote_count                                            credits  \\\n",
       "0           1365.0  Jason Statham-Wu Jing-Shuya Sophia Cai-Sergio ...   \n",
       "1            545.0  Russell Crowe-Daniel Zovatto-Alex Essoe-Franco...   \n",
       "2           1007.0  Anthony Ramos-Dominique Fishback-Luna Lauren V...   \n",
       "3           2811.0  Paul Rudd-Evangeline Lilly-Jonathan Majors-Kat...   \n",
       "4           1129.0  Michael B. Jordan-Tessa Thompson-Jonathan Majo...   \n",
       "...            ...                                                ...   \n",
       "722709         0.0  Tse Miu-William Liao-Yuri Liu-Zhang Chunzhong-...   \n",
       "722710         0.0  Brandon Cronenberg-Caleb Landry Jones-Sarah Ga...   \n",
       "722711         0.0                                                NaN   \n",
       "722712         1.0  James Carolus-Marie DeLorenzo-Steve Diasparra-...   \n",
       "722713         0.0                               Ruka Azuma-Mel Perez   \n",
       "\n",
       "                                                 keywords  \\\n",
       "0                     based on novel or book-sequel-kaiju   \n",
       "1       spain-rome italy-vatican-pope-pig-possession-c...   \n",
       "2       peru-alien-end of the world-based on cartoon-b...   \n",
       "3       hero-ant-sequel-superhero-based on comic-famil...   \n",
       "4       philadelphia pennsylvania-husband wife relatio...   \n",
       "...                                                   ...   \n",
       "722709                                                NaN   \n",
       "722710                                                NaN   \n",
       "722711                                                NaN   \n",
       "722712                                                NaN   \n",
       "722713                                                NaN   \n",
       "\n",
       "                             poster_path                     backdrop_path  \\\n",
       "0       /4m1Au3YkjqsxF8iwQy0fPYSxE0h.jpg  /qlxy8yo5bcgUw2KAmmojUKp4rHd.jpg   \n",
       "1       /9JBEPLTPSm0d1mbEcLxULjJq9Eh.jpg  /hiHGRbyTcbZoLsYYkO4QiCLYe34.jpg   \n",
       "2       /gPbM0MK8CP8A174rmUwGsADNYKD.jpg  /woJbg7ZqidhpvqFGGMRhWQNoxwa.jpg   \n",
       "3       /qnqGbB22YJ7dSs4o6M7exTpNxPz.jpg  /m8JTwHFwX7I7JY5fPe4SjqejWag.jpg   \n",
       "4       /cvsXj3I9Q2iyyIo95AecSd1tad7.jpg  /5i6SjyDbDWqyun8klUuCxrlFbyw.jpg   \n",
       "...                                  ...                               ...   \n",
       "722709  /i3uYuF47mlMPWEK4IYIA4dVYm5t.jpg  /5YjksQqNm5qvuYv7mJzel2C9qla.jpg   \n",
       "722710  /7wexHEkawISnNMd8MLhQ6Nx28Ra.jpg                               NaN   \n",
       "722711                               NaN                               NaN   \n",
       "722712  /pP1svh3fZVUvu41ptuvXkBr2mBG.jpg                               NaN   \n",
       "722713   /jv34KgS7D997H5kbVYxKLJRScg.jpg                               NaN   \n",
       "\n",
       "                                          recommendations  \n",
       "0       1006462-298618-569094-1061181-346698-1076487-6...  \n",
       "1       713704-296271-502356-1076605-1084225-1008005-9...  \n",
       "2       496450-569094-298618-385687-877100-598331-4628...  \n",
       "3       823999-676841-868759-734048-267805-965839-1033...  \n",
       "4       965839-267805-943822-842942-1035806-823999-107...  \n",
       "...                                                   ...  \n",
       "722709                                                NaN  \n",
       "722710                                                NaN  \n",
       "722711                                                NaN  \n",
       "722712                                                NaN  \n",
       "722713                                                NaN  \n",
       "\n",
       "[722714 rows x 20 columns]"
      ]
     },
     "execution_count": 3,
     "metadata": {},
     "output_type": "execute_result"
    }
   ],
   "source": [
    "data = pd.read_csv(\"movies.csv\")\n",
    "data"
   ]
  },
  {
   "cell_type": "markdown",
   "metadata": {},
   "source": [
    "## Analysing Data"
   ]
  },
  {
   "cell_type": "code",
   "execution_count": 4,
   "metadata": {
    "execution": {
     "iopub.execute_input": "2023-09-15T19:46:37.295442Z",
     "iopub.status.busy": "2023-09-15T19:46:37.294922Z",
     "iopub.status.idle": "2023-09-15T19:46:37.302144Z",
     "shell.execute_reply": "2023-09-15T19:46:37.300898Z",
     "shell.execute_reply.started": "2023-09-15T19:46:37.295395Z"
    }
   },
   "outputs": [
    {
     "name": "stdout",
     "output_type": "stream",
     "text": [
      "(722714, 20)\n"
     ]
    }
   ],
   "source": [
    "print(data.shape)"
   ]
  },
  {
   "cell_type": "code",
   "execution_count": 5,
   "metadata": {
    "execution": {
     "iopub.execute_input": "2023-09-15T19:46:37.306515Z",
     "iopub.status.busy": "2023-09-15T19:46:37.305733Z",
     "iopub.status.idle": "2023-09-15T19:46:38.240849Z",
     "shell.execute_reply": "2023-09-15T19:46:38.239537Z",
     "shell.execute_reply.started": "2023-09-15T19:46:37.306467Z"
    }
   },
   "outputs": [
    {
     "name": "stdout",
     "output_type": "stream",
     "text": [
      "<class 'pandas.core.frame.DataFrame'>\n",
      "RangeIndex: 722714 entries, 0 to 722713\n",
      "Data columns (total 20 columns):\n",
      " #   Column                Non-Null Count   Dtype  \n",
      "---  ------                --------------   -----  \n",
      " 0   id                    722714 non-null  int64  \n",
      " 1   title                 722710 non-null  object \n",
      " 2   genres                511967 non-null  object \n",
      " 3   original_language     722714 non-null  object \n",
      " 4   overview              604177 non-null  object \n",
      " 5   popularity            722714 non-null  float64\n",
      " 6   production_companies  337202 non-null  object \n",
      " 7   release_date          670472 non-null  object \n",
      " 8   budget                722714 non-null  float64\n",
      " 9   revenue               722714 non-null  float64\n",
      " 10  runtime               688281 non-null  float64\n",
      " 11  status                722714 non-null  object \n",
      " 12  tagline               108165 non-null  object \n",
      " 13  vote_average          722714 non-null  float64\n",
      " 14  vote_count            722714 non-null  float64\n",
      " 15  credits               497684 non-null  object \n",
      " 16  keywords              210342 non-null  object \n",
      " 17  poster_path           537635 non-null  object \n",
      " 18  backdrop_path         222663 non-null  object \n",
      " 19  recommendations       34782 non-null   object \n",
      "dtypes: float64(6), int64(1), object(13)\n",
      "memory usage: 110.3+ MB\n"
     ]
    }
   ],
   "source": [
    "data.info()"
   ]
  },
  {
   "cell_type": "code",
   "execution_count": 6,
   "metadata": {
    "execution": {
     "iopub.execute_input": "2023-09-15T19:46:38.245199Z",
     "iopub.status.busy": "2023-09-15T19:46:38.244561Z",
     "iopub.status.idle": "2023-09-15T19:46:39.143311Z",
     "shell.execute_reply": "2023-09-15T19:46:39.142248Z",
     "shell.execute_reply.started": "2023-09-15T19:46:38.245131Z"
    }
   },
   "outputs": [
    {
     "data": {
      "text/plain": [
       "id                           0\n",
       "title                        4\n",
       "genres                  210747\n",
       "original_language            0\n",
       "overview                118537\n",
       "popularity                   0\n",
       "production_companies    385512\n",
       "release_date             52242\n",
       "budget                       0\n",
       "revenue                      0\n",
       "runtime                  34433\n",
       "status                       0\n",
       "tagline                 614549\n",
       "vote_average                 0\n",
       "vote_count                   0\n",
       "credits                 225030\n",
       "keywords                512372\n",
       "poster_path             185079\n",
       "backdrop_path           500051\n",
       "recommendations         687932\n",
       "dtype: int64"
      ]
     },
     "execution_count": 6,
     "metadata": {},
     "output_type": "execute_result"
    }
   ],
   "source": [
    "data.isnull().sum()"
   ]
  },
  {
   "cell_type": "code",
   "execution_count": 7,
   "metadata": {
    "execution": {
     "iopub.execute_input": "2023-09-15T19:46:39.147287Z",
     "iopub.status.busy": "2023-09-15T19:46:39.146911Z",
     "iopub.status.idle": "2023-09-15T19:46:42.189850Z",
     "shell.execute_reply": "2023-09-15T19:46:42.188557Z",
     "shell.execute_reply.started": "2023-09-15T19:46:39.147254Z"
    }
   },
   "outputs": [
    {
     "data": {
      "text/plain": [
       "0"
      ]
     },
     "execution_count": 7,
     "metadata": {},
     "output_type": "execute_result"
    }
   ],
   "source": [
    "data.duplicated().sum()"
   ]
  },
  {
   "cell_type": "markdown",
   "metadata": {},
   "source": [
    "## Cleaning Data"
   ]
  },
  {
   "cell_type": "code",
   "execution_count": 8,
   "metadata": {
    "execution": {
     "iopub.execute_input": "2023-09-15T19:46:42.192732Z",
     "iopub.status.busy": "2023-09-15T19:46:42.191459Z",
     "iopub.status.idle": "2023-09-15T19:46:42.302253Z",
     "shell.execute_reply": "2023-09-15T19:46:42.300984Z",
     "shell.execute_reply.started": "2023-09-15T19:46:42.192681Z"
    }
   },
   "outputs": [],
   "source": [
    "# dropping unnecesary title \n",
    "df = data.drop([\"production_companies\", \"popularity\", \"budget\", \"revenue\", \"status\", \"recommendations\", \"runtime\", \"vote_average\", \"backdrop_path\", \"tagline\"], axis=1)"
   ]
  },
  {
   "cell_type": "code",
   "execution_count": 9,
   "metadata": {
    "execution": {
     "iopub.execute_input": "2023-09-15T19:46:42.304091Z",
     "iopub.status.busy": "2023-09-15T19:46:42.303708Z",
     "iopub.status.idle": "2023-09-15T19:46:44.289529Z",
     "shell.execute_reply": "2023-09-15T19:46:44.288283Z",
     "shell.execute_reply.started": "2023-09-15T19:46:42.304057Z"
    }
   },
   "outputs": [],
   "source": [
    "df.drop_duplicates(inplace=True)"
   ]
  },
  {
   "cell_type": "code",
   "execution_count": 10,
   "metadata": {
    "execution": {
     "iopub.execute_input": "2023-09-15T19:46:44.291642Z",
     "iopub.status.busy": "2023-09-15T19:46:44.291230Z",
     "iopub.status.idle": "2023-09-15T19:46:44.422925Z",
     "shell.execute_reply": "2023-09-15T19:46:44.421505Z",
     "shell.execute_reply.started": "2023-09-15T19:46:44.291607Z"
    }
   },
   "outputs": [
    {
     "data": {
      "text/plain": [
       "86992"
      ]
     },
     "execution_count": 10,
     "metadata": {},
     "output_type": "execute_result"
    }
   ],
   "source": [
    "df.title.duplicated().sum()"
   ]
  },
  {
   "cell_type": "code",
   "execution_count": 11,
   "metadata": {
    "execution": {
     "iopub.execute_input": "2023-09-15T19:46:44.428070Z",
     "iopub.status.busy": "2023-09-15T19:46:44.427674Z",
     "iopub.status.idle": "2023-09-15T19:46:44.905280Z",
     "shell.execute_reply": "2023-09-15T19:46:44.903915Z",
     "shell.execute_reply.started": "2023-09-15T19:46:44.428038Z"
    }
   },
   "outputs": [
    {
     "data": {
      "text/plain": [
       "2235"
      ]
     },
     "execution_count": 11,
     "metadata": {},
     "output_type": "execute_result"
    }
   ],
   "source": [
    "df[[\"title\", \"release_date\"]].duplicated().sum()"
   ]
  },
  {
   "cell_type": "code",
   "execution_count": 12,
   "metadata": {
    "execution": {
     "iopub.execute_input": "2023-09-15T19:46:44.906871Z",
     "iopub.status.busy": "2023-09-15T19:46:44.906527Z",
     "iopub.status.idle": "2023-09-15T19:46:45.477449Z",
     "shell.execute_reply": "2023-09-15T19:46:45.476047Z",
     "shell.execute_reply.started": "2023-09-15T19:46:44.906840Z"
    }
   },
   "outputs": [],
   "source": [
    "df.drop_duplicates(subset=[\"title\",\"release_date\"], inplace=True)"
   ]
  },
  {
   "cell_type": "code",
   "execution_count": 13,
   "metadata": {
    "execution": {
     "iopub.execute_input": "2023-09-15T19:46:45.479484Z",
     "iopub.status.busy": "2023-09-15T19:46:45.479069Z",
     "iopub.status.idle": "2023-09-15T19:46:45.531179Z",
     "shell.execute_reply": "2023-09-15T19:46:45.529919Z",
     "shell.execute_reply.started": "2023-09-15T19:46:45.479448Z"
    }
   },
   "outputs": [],
   "source": [
    "df = df[df.vote_count >= 350].reset_index()"
   ]
  },
  {
   "cell_type": "code",
   "execution_count": 14,
   "metadata": {
    "execution": {
     "iopub.execute_input": "2023-09-15T19:46:45.533630Z",
     "iopub.status.busy": "2023-09-15T19:46:45.533228Z",
     "iopub.status.idle": "2023-09-15T19:46:45.554525Z",
     "shell.execute_reply": "2023-09-15T19:46:45.553424Z",
     "shell.execute_reply.started": "2023-09-15T19:46:45.533594Z"
    }
   },
   "outputs": [
    {
     "data": {
      "text/plain": [
       "index                  0\n",
       "id                     0\n",
       "title                  0\n",
       "genres                 0\n",
       "original_language      0\n",
       "overview               1\n",
       "release_date           0\n",
       "vote_count             0\n",
       "credits                8\n",
       "keywords             238\n",
       "poster_path            0\n",
       "dtype: int64"
      ]
     },
     "execution_count": 14,
     "metadata": {},
     "output_type": "execute_result"
    }
   ],
   "source": [
    "df.isnull().sum()"
   ]
  },
  {
   "cell_type": "code",
   "execution_count": 15,
   "metadata": {
    "execution": {
     "iopub.execute_input": "2023-09-15T19:46:45.557112Z",
     "iopub.status.busy": "2023-09-15T19:46:45.556606Z",
     "iopub.status.idle": "2023-09-15T19:46:45.576220Z",
     "shell.execute_reply": "2023-09-15T19:46:45.574588Z",
     "shell.execute_reply.started": "2023-09-15T19:46:45.557063Z"
    }
   },
   "outputs": [],
   "source": [
    "df.fillna(\"\", inplace = True)"
   ]
  },
  {
   "cell_type": "code",
   "execution_count": 16,
   "metadata": {
    "execution": {
     "iopub.execute_input": "2023-09-15T19:46:45.578601Z",
     "iopub.status.busy": "2023-09-15T19:46:45.578131Z",
     "iopub.status.idle": "2023-09-15T19:46:45.600191Z",
     "shell.execute_reply": "2023-09-15T19:46:45.598748Z",
     "shell.execute_reply.started": "2023-09-15T19:46:45.578552Z"
    }
   },
   "outputs": [],
   "source": [
    "index = df[(df.genres == \"\") & (df.overview == \"\")].index\n",
    "df.drop(index, inplace=True)"
   ]
  },
  {
   "cell_type": "code",
   "execution_count": 17,
   "metadata": {
    "execution": {
     "iopub.execute_input": "2023-09-15T19:46:45.603031Z",
     "iopub.status.busy": "2023-09-15T19:46:45.602420Z",
     "iopub.status.idle": "2023-09-15T19:46:45.698498Z",
     "shell.execute_reply": "2023-09-15T19:46:45.697099Z",
     "shell.execute_reply.started": "2023-09-15T19:46:45.602969Z"
    }
   },
   "outputs": [],
   "source": [
    "df.genres = df.genres.apply(lambda x: \" \".join(x.split(\"-\")))\n",
    "df.keywords = df.keywords.apply(lambda x: \" \".join(x.split(\"-\")))\n",
    "df.credits = df.credits.apply(lambda x: \" \".join(x.replace(\" \", \"\").split(\"-\")[:5]))"
   ]
  },
  {
   "cell_type": "code",
   "execution_count": 18,
   "metadata": {
    "execution": {
     "iopub.execute_input": "2023-09-15T19:46:45.700475Z",
     "iopub.status.busy": "2023-09-15T19:46:45.700056Z",
     "iopub.status.idle": "2023-09-15T19:46:45.735009Z",
     "shell.execute_reply": "2023-09-15T19:46:45.733624Z",
     "shell.execute_reply.started": "2023-09-15T19:46:45.700440Z"
    }
   },
   "outputs": [],
   "source": [
    "# making tags consisting of overview, genre, credits, keywords and original language\n",
    "df[\"tags\"] =df.overview + \" \"+ df.genres + \" \"  +df.credits + \" \" +df.keywords + \" \" + df.original_language"
   ]
  },
  {
   "cell_type": "code",
   "execution_count": 19,
   "metadata": {
    "execution": {
     "iopub.execute_input": "2023-09-15T19:46:45.737198Z",
     "iopub.status.busy": "2023-09-15T19:46:45.736678Z",
     "iopub.status.idle": "2023-09-15T19:46:45.747851Z",
     "shell.execute_reply": "2023-09-15T19:46:45.746742Z",
     "shell.execute_reply.started": "2023-09-15T19:46:45.737132Z"
    }
   },
   "outputs": [],
   "source": [
    "# making new framework with important features\n",
    "new_df = df[[\"id\", \"title\", \"tags\", 'poster_path']]"
   ]
  },
  {
   "cell_type": "code",
   "execution_count": 20,
   "metadata": {
    "execution": {
     "iopub.execute_input": "2023-09-15T19:46:45.750342Z",
     "iopub.status.busy": "2023-09-15T19:46:45.749831Z",
     "iopub.status.idle": "2023-09-15T19:46:45.782325Z",
     "shell.execute_reply": "2023-09-15T19:46:45.781147Z",
     "shell.execute_reply.started": "2023-09-15T19:46:45.750296Z"
    }
   },
   "outputs": [],
   "source": [
    "new_df.tags = new_df.tags.apply(lambda x:x.lower())"
   ]
  },
  {
   "cell_type": "code",
   "execution_count": 21,
   "metadata": {
    "execution": {
     "iopub.execute_input": "2023-09-15T19:46:45.794549Z",
     "iopub.status.busy": "2023-09-15T19:46:45.794099Z",
     "iopub.status.idle": "2023-09-15T19:46:45.811963Z",
     "shell.execute_reply": "2023-09-15T19:46:45.810632Z",
     "shell.execute_reply.started": "2023-09-15T19:46:45.794513Z"
    },
    "scrolled": true
   },
   "outputs": [
    {
     "data": {
      "text/html": [
       "<div>\n",
       "<style scoped>\n",
       "    .dataframe tbody tr th:only-of-type {\n",
       "        vertical-align: middle;\n",
       "    }\n",
       "\n",
       "    .dataframe tbody tr th {\n",
       "        vertical-align: top;\n",
       "    }\n",
       "\n",
       "    .dataframe thead th {\n",
       "        text-align: right;\n",
       "    }\n",
       "</style>\n",
       "<table border=\"1\" class=\"dataframe\">\n",
       "  <thead>\n",
       "    <tr style=\"text-align: right;\">\n",
       "      <th></th>\n",
       "      <th>id</th>\n",
       "      <th>title</th>\n",
       "      <th>tags</th>\n",
       "      <th>poster_path</th>\n",
       "    </tr>\n",
       "  </thead>\n",
       "  <tbody>\n",
       "    <tr>\n",
       "      <th>0</th>\n",
       "      <td>615656</td>\n",
       "      <td>Meg 2: The Trench</td>\n",
       "      <td>an exploratory dive into the deepest depths of...</td>\n",
       "      <td>/4m1Au3YkjqsxF8iwQy0fPYSxE0h.jpg</td>\n",
       "    </tr>\n",
       "    <tr>\n",
       "      <th>1</th>\n",
       "      <td>758323</td>\n",
       "      <td>The Pope's Exorcist</td>\n",
       "      <td>father gabriele amorth chief exorcist of the v...</td>\n",
       "      <td>/9JBEPLTPSm0d1mbEcLxULjJq9Eh.jpg</td>\n",
       "    </tr>\n",
       "    <tr>\n",
       "      <th>2</th>\n",
       "      <td>667538</td>\n",
       "      <td>Transformers: Rise of the Beasts</td>\n",
       "      <td>when a new threat capable of destroying the en...</td>\n",
       "      <td>/gPbM0MK8CP8A174rmUwGsADNYKD.jpg</td>\n",
       "    </tr>\n",
       "    <tr>\n",
       "      <th>3</th>\n",
       "      <td>640146</td>\n",
       "      <td>Ant-Man and the Wasp: Quantumania</td>\n",
       "      <td>super-hero partners scott lang and hope van dy...</td>\n",
       "      <td>/qnqGbB22YJ7dSs4o6M7exTpNxPz.jpg</td>\n",
       "    </tr>\n",
       "    <tr>\n",
       "      <th>4</th>\n",
       "      <td>677179</td>\n",
       "      <td>Creed III</td>\n",
       "      <td>after dominating the boxing world adonis creed...</td>\n",
       "      <td>/cvsXj3I9Q2iyyIo95AecSd1tad7.jpg</td>\n",
       "    </tr>\n",
       "  </tbody>\n",
       "</table>\n",
       "</div>"
      ],
      "text/plain": [
       "       id                              title  \\\n",
       "0  615656                  Meg 2: The Trench   \n",
       "1  758323                The Pope's Exorcist   \n",
       "2  667538   Transformers: Rise of the Beasts   \n",
       "3  640146  Ant-Man and the Wasp: Quantumania   \n",
       "4  677179                          Creed III   \n",
       "\n",
       "                                                tags  \\\n",
       "0  an exploratory dive into the deepest depths of...   \n",
       "1  father gabriele amorth chief exorcist of the v...   \n",
       "2  when a new threat capable of destroying the en...   \n",
       "3  super-hero partners scott lang and hope van dy...   \n",
       "4  after dominating the boxing world adonis creed...   \n",
       "\n",
       "                        poster_path  \n",
       "0  /4m1Au3YkjqsxF8iwQy0fPYSxE0h.jpg  \n",
       "1  /9JBEPLTPSm0d1mbEcLxULjJq9Eh.jpg  \n",
       "2  /gPbM0MK8CP8A174rmUwGsADNYKD.jpg  \n",
       "3  /qnqGbB22YJ7dSs4o6M7exTpNxPz.jpg  \n",
       "4  /cvsXj3I9Q2iyyIo95AecSd1tad7.jpg  "
      ]
     },
     "execution_count": 21,
     "metadata": {},
     "output_type": "execute_result"
    }
   ],
   "source": [
    "new_df.head()"
   ]
  },
  {
   "cell_type": "markdown",
   "metadata": {},
   "source": [
    "### Stremming\n",
    "\n",
    "Stemming is the process of reducing words to their base or root form."
   ]
  },
  {
   "cell_type": "code",
   "execution_count": 22,
   "metadata": {
    "execution": {
     "iopub.execute_input": "2023-09-15T19:46:45.814413Z",
     "iopub.status.busy": "2023-09-15T19:46:45.813906Z",
     "iopub.status.idle": "2023-09-15T19:46:46.476497Z",
     "shell.execute_reply": "2023-09-15T19:46:46.475315Z",
     "shell.execute_reply.started": "2023-09-15T19:46:45.814366Z"
    }
   },
   "outputs": [],
   "source": [
    "import nltk\n",
    "from nltk.stem.porter import PorterStemmer\n",
    "ps = PorterStemmer()"
   ]
  },
  {
   "cell_type": "code",
   "execution_count": 23,
   "metadata": {
    "execution": {
     "iopub.execute_input": "2023-09-15T19:46:46.478578Z",
     "iopub.status.busy": "2023-09-15T19:46:46.477976Z",
     "iopub.status.idle": "2023-09-15T19:46:46.484533Z",
     "shell.execute_reply": "2023-09-15T19:46:46.483105Z",
     "shell.execute_reply.started": "2023-09-15T19:46:46.478543Z"
    }
   },
   "outputs": [],
   "source": [
    "def stem(text):\n",
    "    y = []\n",
    "    for i in text.split():\n",
    "        y.append(ps.stem(i))\n",
    "    \n",
    "    return \" \".join(y)    "
   ]
  },
  {
   "cell_type": "code",
   "execution_count": 24,
   "metadata": {
    "execution": {
     "iopub.execute_input": "2023-09-15T19:46:46.487492Z",
     "iopub.status.busy": "2023-09-15T19:46:46.486299Z",
     "iopub.status.idle": "2023-09-15T19:47:05.279620Z",
     "shell.execute_reply": "2023-09-15T19:47:05.278379Z",
     "shell.execute_reply.started": "2023-09-15T19:46:46.487282Z"
    }
   },
   "outputs": [],
   "source": [
    "new_df[\"tags\"] = new_df[\"tags\"].apply(stem)"
   ]
  },
  {
   "cell_type": "markdown",
   "metadata": {},
   "source": [
    "### Text Vectorization\n",
    "\n",
    "Text vectorization is the process of converting text data into numerical vectors so that they can be used as input for machine learning models."
   ]
  },
  {
   "cell_type": "code",
   "execution_count": 25,
   "metadata": {
    "execution": {
     "iopub.execute_input": "2023-09-15T19:47:05.281349Z",
     "iopub.status.busy": "2023-09-15T19:47:05.281017Z",
     "iopub.status.idle": "2023-09-15T19:47:05.287300Z",
     "shell.execute_reply": "2023-09-15T19:47:05.285904Z",
     "shell.execute_reply.started": "2023-09-15T19:47:05.281320Z"
    }
   },
   "outputs": [],
   "source": [
    "from sklearn.feature_extraction.text import CountVectorizer\n",
    "cv = CountVectorizer(stop_words=\"english\",max_features=2000)"
   ]
  },
  {
   "cell_type": "code",
   "execution_count": 26,
   "metadata": {
    "execution": {
     "iopub.execute_input": "2023-09-15T19:47:05.289728Z",
     "iopub.status.busy": "2023-09-15T19:47:05.289228Z",
     "iopub.status.idle": "2023-09-15T19:47:06.322909Z",
     "shell.execute_reply": "2023-09-15T19:47:06.321450Z",
     "shell.execute_reply.started": "2023-09-15T19:47:05.289683Z"
    }
   },
   "outputs": [],
   "source": [
    "vectors = cv.fit_transform(new_df[\"tags\"]).toarray()"
   ]
  },
  {
   "cell_type": "code",
   "execution_count": 27,
   "metadata": {
    "execution": {
     "iopub.execute_input": "2023-09-15T19:47:06.325138Z",
     "iopub.status.busy": "2023-09-15T19:47:06.324621Z",
     "iopub.status.idle": "2023-09-15T19:47:06.342991Z",
     "shell.execute_reply": "2023-09-15T19:47:06.341342Z",
     "shell.execute_reply.started": "2023-09-15T19:47:06.325085Z"
    }
   },
   "outputs": [
    {
     "data": {
      "text/plain": [
       "['alter', 'altern', 'alway', 'amazon', 'ambit']"
      ]
     },
     "execution_count": 27,
     "metadata": {},
     "output_type": "execute_result"
    }
   ],
   "source": [
    "cv.get_feature_names()[80:85]"
   ]
  },
  {
   "cell_type": "markdown",
   "metadata": {},
   "source": [
    "## ML Modeling\n",
    "\n",
    "Cosine Similarity is a process of creating a machine learning model that utilizes the cosine similarity metric to determine the similarity between two pieces of text."
   ]
  },
  {
   "cell_type": "code",
   "execution_count": 28,
   "metadata": {
    "execution": {
     "iopub.execute_input": "2023-09-15T19:47:06.351548Z",
     "iopub.status.busy": "2023-09-15T19:47:06.351145Z",
     "iopub.status.idle": "2023-09-15T19:47:11.766703Z",
     "shell.execute_reply": "2023-09-15T19:47:11.765503Z",
     "shell.execute_reply.started": "2023-09-15T19:47:06.351514Z"
    }
   },
   "outputs": [],
   "source": [
    "from sklearn.metrics.pairwise import cosine_similarity\n",
    "similarity = cosine_similarity(vectors)"
   ]
  },
  {
   "cell_type": "code",
   "execution_count": 29,
   "metadata": {
    "execution": {
     "iopub.execute_input": "2023-09-15T19:47:11.768824Z",
     "iopub.status.busy": "2023-09-15T19:47:11.768349Z",
     "iopub.status.idle": "2023-09-15T19:47:11.775856Z",
     "shell.execute_reply": "2023-09-15T19:47:11.775060Z",
     "shell.execute_reply.started": "2023-09-15T19:47:11.768774Z"
    }
   },
   "outputs": [
    {
     "data": {
      "text/plain": [
       "(7659, 7659)"
      ]
     },
     "execution_count": 29,
     "metadata": {},
     "output_type": "execute_result"
    }
   ],
   "source": [
    "similarity.shape"
   ]
  },
  {
   "cell_type": "markdown",
   "metadata": {},
   "source": [
    "## Testing"
   ]
  },
  {
   "cell_type": "code",
   "execution_count": 30,
   "metadata": {
    "execution": {
     "iopub.execute_input": "2023-09-15T19:47:11.778126Z",
     "iopub.status.busy": "2023-09-15T19:47:11.777480Z",
     "iopub.status.idle": "2023-09-15T19:47:11.795551Z",
     "shell.execute_reply": "2023-09-15T19:47:11.794229Z",
     "shell.execute_reply.started": "2023-09-15T19:47:11.778092Z"
    }
   },
   "outputs": [],
   "source": [
    "def recommend(movies):\n",
    "    movie_index = new_df[new_df.title == movies].index[0]\n",
    "    distances = similarity[movie_index]\n",
    "    movies_list = sorted(list(enumerate(distances)), reverse=True, key= lambda x:x[1])[1:6]\n",
    "    \n",
    "    for i in movies_list:\n",
    "        print(new_df.iloc[i[0]].title)"
   ]
  },
  {
   "cell_type": "code",
   "execution_count": 31,
   "metadata": {
    "execution": {
     "iopub.execute_input": "2023-09-15T19:47:11.798051Z",
     "iopub.status.busy": "2023-09-15T19:47:11.797620Z",
     "iopub.status.idle": "2023-09-15T19:47:11.826560Z",
     "shell.execute_reply": "2023-09-15T19:47:11.825235Z",
     "shell.execute_reply.started": "2023-09-15T19:47:11.798015Z"
    }
   },
   "outputs": [
    {
     "name": "stdout",
     "output_type": "stream",
     "text": [
      "Toy Story 4\n",
      "Toy Story 2\n",
      "Small Soldiers\n",
      "The Indian in the Cupboard\n",
      "Toy Story 3\n"
     ]
    }
   ],
   "source": [
    "recommend(\"Toy Story\")"
   ]
  },
  {
   "cell_type": "code",
   "execution_count": 32,
   "metadata": {
    "execution": {
     "iopub.execute_input": "2023-09-15T19:47:11.828863Z",
     "iopub.status.busy": "2023-09-15T19:47:11.828489Z",
     "iopub.status.idle": "2023-09-15T19:47:11.851483Z",
     "shell.execute_reply": "2023-09-15T19:47:11.850136Z",
     "shell.execute_reply.started": "2023-09-15T19:47:11.828830Z"
    }
   },
   "outputs": [
    {
     "name": "stdout",
     "output_type": "stream",
     "text": [
      "The Conjuring: The Devil Made Me Do It\n",
      "Grave Encounters\n",
      "Terrified\n",
      "A Haunted House 2\n",
      "The Conjuring 2\n"
     ]
    }
   ],
   "source": [
    "recommend(\"The Conjuring\")"
   ]
  },
  {
   "cell_type": "markdown",
   "metadata": {},
   "source": [
    "__Observation__ : The function is returning 5 similar movies."
   ]
  }
 ],
 "metadata": {
  "kernelspec": {
   "display_name": "Python 3 (ipykernel)",
   "language": "python",
   "name": "python3"
  },
  "language_info": {
   "codemirror_mode": {
    "name": "ipython",
    "version": 3
   },
   "file_extension": ".py",
   "mimetype": "text/x-python",
   "name": "python",
   "nbconvert_exporter": "python",
   "pygments_lexer": "ipython3",
   "version": "3.9.12"
  }
 },
 "nbformat": 4,
 "nbformat_minor": 4
}
